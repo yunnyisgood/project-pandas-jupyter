{
 "cells": [
  {
   "cell_type": "code",
   "execution_count": 13,
   "metadata": {
    "collapsed": true
   },
   "outputs": [
    {
     "data": {
      "text/plain": "'\\nreshape 함수 종류\\n\\n - (1) pivot(), pd.pivot_table()\\n\\n - (2) stack(), unstack()\\n\\n - (3) melt() // 1~ 3번까지가 제일 자주 사용됨.\\n\\n - (4) wide_to_long()\\n\\n - (5) pd.crosstab()\\n\\n\\n'"
     },
     "execution_count": 13,
     "metadata": {},
     "output_type": "execute_result"
    }
   ],
   "source": [
    "import pandas as pd\n",
    "import numpy as np\n",
    "import icecream as ic\n",
    "\n",
    "'''\n",
    "reshape 함수 종류\n",
    "\n",
    " - (1) pivot()\n",
    " 90도 회전(rotation)\n",
    " 컬럼 -> 인덱스로 전환\n",
    "\n",
    " - (2) stack(), unstack()\n",
    " stack()이 위에서 아래로 쌓아올린 구조라면\n",
    " unstack()은 순서 없이 놓여져 있다.\n",
    "\n",
    " - (3) melt() // 1~ 3번까지가 제일 자주 사용됨.\n",
    "\n",
    " - (4) wide_to_long()\n",
    "\n",
    " - (5) pd.crosstab()\n",
    "\n",
    "\n",
    "'''"
   ]
  },
  {
   "cell_type": "code",
   "execution_count": 23,
   "outputs": [
    {
     "name": "stdout",
     "output_type": "stream",
     "text": [
      "  customer_id product_code grade  purchase_amount\n",
      "0         kim          com     A               30\n",
      "1         lee        phone     A               10\n",
      "2        park           tv     A                0\n",
      "3        song          com     A               40\n",
      "4        yoon        phone     A               15\n",
      "5        kang           tv     A               30\n",
      "6         tak          com     B                0\n",
      "7         ryu        phone     B                0\n",
      "8        jang           tv     B               10\n",
      "product_code   com  phone    tv\n",
      "customer_id                    \n",
      "jang           NaN    NaN  10.0\n",
      "kang           NaN    NaN  30.0\n",
      "kim           30.0    NaN   NaN\n",
      "lee            NaN   10.0   NaN\n",
      "park           NaN    NaN   0.0\n",
      "ryu            NaN    0.0   NaN\n",
      "song          40.0    NaN   NaN\n",
      "tak            0.0    NaN   NaN\n",
      "yoon           NaN   15.0   NaN\n"
     ]
    }
   ],
   "source": [
    "\n",
    "# 30 다음 객체를 customer_id 를 인덱스로하고 product_code 를 컬럼으로, purchare_amount 를 값으로, 재구성하시오\n",
    "df = pd.DataFrame({\"customer_id\":['kim','lee','park','song','yoon','kang','tak','ryu','jang'],\n",
    "               \"product_code\":['com','phone','tv','com','phone','tv','com','phone','tv'],\n",
    "               \"grade\":['A','A','A','A','A','A','B','B','B'],\n",
    "               \"purchase_amount\":[30,10,0,40,15,30,0,0,10]})\n",
    "print(df)\n",
    "df = df.pivot(index='customer_id', columns='product_code', values='purchase_amount')\n",
    "print(df)"
   ],
   "metadata": {
    "collapsed": false,
    "pycharm": {
     "name": "#%%\n"
    }
   }
  },
  {
   "cell_type": "code",
   "execution_count": 38,
   "outputs": [
    {
     "data": {
      "text/plain": "product_code        com  phone    tv\ncustomer_id grade                   \njang        B       NaN    NaN  10.0\nkang        A       NaN    NaN  30.0\nkim         A      30.0    NaN   NaN\nlee         A       NaN   10.0   NaN\npark        A       NaN    NaN   0.0\nryu         B       NaN    0.0   NaN\nsong        A      40.0    NaN   NaN\ntak         B       0.0    NaN   NaN\nyoon        A       NaN   15.0   NaN",
      "text/html": "<div>\n<style scoped>\n    .dataframe tbody tr th:only-of-type {\n        vertical-align: middle;\n    }\n\n    .dataframe tbody tr th {\n        vertical-align: top;\n    }\n\n    .dataframe thead th {\n        text-align: right;\n    }\n</style>\n<table border=\"1\" class=\"dataframe\">\n  <thead>\n    <tr style=\"text-align: right;\">\n      <th></th>\n      <th>product_code</th>\n      <th>com</th>\n      <th>phone</th>\n      <th>tv</th>\n    </tr>\n    <tr>\n      <th>customer_id</th>\n      <th>grade</th>\n      <th></th>\n      <th></th>\n      <th></th>\n    </tr>\n  </thead>\n  <tbody>\n    <tr>\n      <th>jang</th>\n      <th>B</th>\n      <td>NaN</td>\n      <td>NaN</td>\n      <td>10.0</td>\n    </tr>\n    <tr>\n      <th>kang</th>\n      <th>A</th>\n      <td>NaN</td>\n      <td>NaN</td>\n      <td>30.0</td>\n    </tr>\n    <tr>\n      <th>kim</th>\n      <th>A</th>\n      <td>30.0</td>\n      <td>NaN</td>\n      <td>NaN</td>\n    </tr>\n    <tr>\n      <th>lee</th>\n      <th>A</th>\n      <td>NaN</td>\n      <td>10.0</td>\n      <td>NaN</td>\n    </tr>\n    <tr>\n      <th>park</th>\n      <th>A</th>\n      <td>NaN</td>\n      <td>NaN</td>\n      <td>0.0</td>\n    </tr>\n    <tr>\n      <th>ryu</th>\n      <th>B</th>\n      <td>NaN</td>\n      <td>0.0</td>\n      <td>NaN</td>\n    </tr>\n    <tr>\n      <th>song</th>\n      <th>A</th>\n      <td>40.0</td>\n      <td>NaN</td>\n      <td>NaN</td>\n    </tr>\n    <tr>\n      <th>tak</th>\n      <th>B</th>\n      <td>0.0</td>\n      <td>NaN</td>\n      <td>NaN</td>\n    </tr>\n    <tr>\n      <th>yoon</th>\n      <th>A</th>\n      <td>NaN</td>\n      <td>15.0</td>\n      <td>NaN</td>\n    </tr>\n  </tbody>\n</table>\n</div>"
     },
     "execution_count": 38,
     "metadata": {},
     "output_type": "execute_result"
    }
   ],
   "source": [
    "# 31 다음 객체를 customer_id, grade 를 인덱스로하고 product_code 를 컬럼으로, purchare_amount 를 값으로, 재구성하시오\n",
    "df = pd.DataFrame({\"customer_id\":['kim','lee','park','song','yoon','kang','tak','ryu','jang'],\n",
    "               \"product_code\":['com','phone','tv','com','phone','tv','com','phone','tv'],\n",
    "               \"grade\":['A','A','A','A','A','A','B','B','B'],\n",
    "               \"purchase_amount\":[30,10,0,40,15,30,0,0,10]})\n",
    "\n",
    "df = df.pivot(index=['customer_id', 'grade'], columns ='product_code', values='purchase_amount')\n",
    "df"
   ],
   "metadata": {
    "collapsed": false,
    "pycharm": {
     "name": "#%%\n"
    }
   }
  },
  {
   "cell_type": "code",
   "execution_count": 113,
   "outputs": [
    {
     "name": "stdout",
     "output_type": "stream",
     "text": [
      "          com  phone  tv  notebook\n",
      "kim 2019    0      1   2         3\n",
      "    2020    4      5   6         7\n",
      "lee 2019    8      9  10        11\n",
      "    2020   12     13  14        15\n",
      "kim  2019  com          0\n",
      "           phone        1\n",
      "           tv           2\n",
      "           notebook     3\n",
      "     2020  com          4\n",
      "           phone        5\n",
      "           tv           6\n",
      "           notebook     7\n",
      "lee  2019  com          8\n",
      "           phone        9\n",
      "           tv          10\n",
      "           notebook    11\n",
      "     2020  com         12\n",
      "           phone       13\n",
      "           tv          14\n",
      "           notebook    15\n",
      "dtype: int32\n",
      "               kim  lee\n",
      "2019 com         0    8\n",
      "     phone       1    9\n",
      "     tv          2   10\n",
      "     notebook    3   11\n",
      "2020 com         4   12\n",
      "     phone       5   13\n",
      "     tv          6   14\n",
      "     notebook    7   15\n"
     ]
    },
    {
     "data": {
      "text/plain": "   year product_code  kim  lee\n0  2019          com    0    8\n1  2019        phone    1    9\n2  2019           tv    2   10\n3  2019     notebook    3   11\n4  2020          com    4   12\n5  2020        phone    5   13\n6  2020           tv    6   14\n7  2020     notebook    7   15",
      "text/html": "<div>\n<style scoped>\n    .dataframe tbody tr th:only-of-type {\n        vertical-align: middle;\n    }\n\n    .dataframe tbody tr th {\n        vertical-align: top;\n    }\n\n    .dataframe thead th {\n        text-align: right;\n    }\n</style>\n<table border=\"1\" class=\"dataframe\">\n  <thead>\n    <tr style=\"text-align: right;\">\n      <th></th>\n      <th>year</th>\n      <th>product_code</th>\n      <th>kim</th>\n      <th>lee</th>\n    </tr>\n  </thead>\n  <tbody>\n    <tr>\n      <th>0</th>\n      <td>2019</td>\n      <td>com</td>\n      <td>0</td>\n      <td>8</td>\n    </tr>\n    <tr>\n      <th>1</th>\n      <td>2019</td>\n      <td>phone</td>\n      <td>1</td>\n      <td>9</td>\n    </tr>\n    <tr>\n      <th>2</th>\n      <td>2019</td>\n      <td>tv</td>\n      <td>2</td>\n      <td>10</td>\n    </tr>\n    <tr>\n      <th>3</th>\n      <td>2019</td>\n      <td>notebook</td>\n      <td>3</td>\n      <td>11</td>\n    </tr>\n    <tr>\n      <th>4</th>\n      <td>2020</td>\n      <td>com</td>\n      <td>4</td>\n      <td>12</td>\n    </tr>\n    <tr>\n      <th>5</th>\n      <td>2020</td>\n      <td>phone</td>\n      <td>5</td>\n      <td>13</td>\n    </tr>\n    <tr>\n      <th>6</th>\n      <td>2020</td>\n      <td>tv</td>\n      <td>6</td>\n      <td>14</td>\n    </tr>\n    <tr>\n      <th>7</th>\n      <td>2020</td>\n      <td>notebook</td>\n      <td>7</td>\n      <td>15</td>\n    </tr>\n  </tbody>\n</table>\n</div>"
     },
     "execution_count": 113,
     "metadata": {},
     "output_type": "execute_result"
    }
   ],
   "source": [
    "#32\n",
    "\n",
    "df = pd.DataFrame(data=np.arange(16).reshape(4,4),\n",
    "                  index=pd.MultiIndex.from_tuples([('kim','2019'),('kim','2020'),('lee', '2019'),('lee','2020')]),\n",
    "                  columns=['com','phone','tv','notebook'])\n",
    "print(df)\n",
    "# print(type(df.stack())) pandas.core.series.Series\n",
    "# 칼럼의 level은 1개 밖에 없으므로 stack(level=-1) 을 별도로 명기하지 않아도 됩니다.\n",
    "df = df.stack(level=-1, dropna= True)# <class 'pandas.core.series.Series'>\n",
    "print(df)\n",
    "\n",
    "df = df.unstack(level=0)\n",
    "print(df)\n",
    "\n",
    "'''\n",
    "결측값이 있는 데이터셋을 stack() 할 때 결측값을 제거할지(dropna=True),\n",
    "아니면 결측값을 NaN으로 유지할지(dropna=False) 설정\n",
    "unstack(level=-1), unstack(level=0), unstack(level=1) 별로\n",
    "어떤 level이 칼럼으로 이동해서 unstack() 되는지 체크\n",
    "'''\n",
    "\n",
    "df = df.reset_index()\n",
    "df.rename(columns={'level_0':'year','level_1':'product_code'},\n",
    "          inplace=True)\n",
    "df\n",
    "\n"
   ],
   "metadata": {
    "collapsed": false,
    "pycharm": {
     "name": "#%%\n"
    }
   }
  },
  {
   "cell_type": "code",
   "execution_count": 117,
   "outputs": [
    {
     "data": {
      "text/plain": "   customer_id         vaiables  value\n0          kim     product_code    com\n1          kim     product_code  phone\n2          lee     product_code     tv\n3          lee     product_code    tab\n4          kim   purchase_count      1\n5          kim   purchase_count      2\n6          lee   purchase_count      3\n7          lee   purchase_count      4\n8          kim  purchase_amount    100\n9          kim  purchase_amount    200\n10         lee  purchase_amount    300\n11         lee  purchase_amount    400",
      "text/html": "<div>\n<style scoped>\n    .dataframe tbody tr th:only-of-type {\n        vertical-align: middle;\n    }\n\n    .dataframe tbody tr th {\n        vertical-align: top;\n    }\n\n    .dataframe thead th {\n        text-align: right;\n    }\n</style>\n<table border=\"1\" class=\"dataframe\">\n  <thead>\n    <tr style=\"text-align: right;\">\n      <th></th>\n      <th>customer_id</th>\n      <th>vaiables</th>\n      <th>value</th>\n    </tr>\n  </thead>\n  <tbody>\n    <tr>\n      <th>0</th>\n      <td>kim</td>\n      <td>product_code</td>\n      <td>com</td>\n    </tr>\n    <tr>\n      <th>1</th>\n      <td>kim</td>\n      <td>product_code</td>\n      <td>phone</td>\n    </tr>\n    <tr>\n      <th>2</th>\n      <td>lee</td>\n      <td>product_code</td>\n      <td>tv</td>\n    </tr>\n    <tr>\n      <th>3</th>\n      <td>lee</td>\n      <td>product_code</td>\n      <td>tab</td>\n    </tr>\n    <tr>\n      <th>4</th>\n      <td>kim</td>\n      <td>purchase_count</td>\n      <td>1</td>\n    </tr>\n    <tr>\n      <th>5</th>\n      <td>kim</td>\n      <td>purchase_count</td>\n      <td>2</td>\n    </tr>\n    <tr>\n      <th>6</th>\n      <td>lee</td>\n      <td>purchase_count</td>\n      <td>3</td>\n    </tr>\n    <tr>\n      <th>7</th>\n      <td>lee</td>\n      <td>purchase_count</td>\n      <td>4</td>\n    </tr>\n    <tr>\n      <th>8</th>\n      <td>kim</td>\n      <td>purchase_amount</td>\n      <td>100</td>\n    </tr>\n    <tr>\n      <th>9</th>\n      <td>kim</td>\n      <td>purchase_amount</td>\n      <td>200</td>\n    </tr>\n    <tr>\n      <th>10</th>\n      <td>lee</td>\n      <td>purchase_amount</td>\n      <td>300</td>\n    </tr>\n    <tr>\n      <th>11</th>\n      <td>lee</td>\n      <td>purchase_amount</td>\n      <td>400</td>\n    </tr>\n  </tbody>\n</table>\n</div>"
     },
     "execution_count": 117,
     "metadata": {},
     "output_type": "execute_result"
    }
   ],
   "source": [
    "'''\n",
    "melt() 는 ID 변수를 기준으로 원래 데이터셋에 있던 여러개의 칼럼 이름을\n",
    "'variable' 칼럼에 위에서 아래로 길게 쌓아놓고,\n",
    "'value' 칼럼에 ID와 variable에 해당하는 값을\n",
    "넣어주는 식으로 데이터를 재구조화\n",
    "'''\n",
    "df = pd.DataFrame({\"customer_id\":['kim','kim','lee','lee'],\n",
    "               \"product_code\":['com','phone','tv','tab'],\n",
    "               \"purchase_count\":[1,2,3,4],\n",
    "               \"purchase_amount\":[100,200,300,400]})\n",
    "df\n",
    "\n",
    "# (1) pd.melt(data, id_vars=['id1', 'id2', ...]) 를 사용한 데이터 재구조화\n",
    "df = df.melt(id_vars=['customer_id','product_code'],\n",
    "             var_name='vaiables', value_name='value')\n",
    "df\n",
    "\n",
    "# (2) pd.melt() 의 variable 이름, value 이름 부여하기 : var_name, value_name\n"
   ],
   "metadata": {
    "collapsed": false,
    "pycharm": {
     "name": "#%%\n"
    }
   }
  },
  {
   "cell_type": "code",
   "execution_count": 150,
   "outputs": [
    {
     "name": "stdout",
     "output_type": "stream",
     "text": [
      "  Class1 Class2 Score1 Score2     value  seq\n",
      "0      A      D    2.5    3.2  1.331587    0\n",
      "1      B      E    1.2    1.3  0.715279    1\n",
      "2      C      F    0.7    0.1 -1.545400    2\n"
     ]
    },
    {
     "data": {
      "text/plain": "              value Class Score\nseq index                      \n0   1      1.331587     A   2.5\n1   1      0.715279     B   1.2\n2   1     -1.545400     C   0.7\n0   2      1.331587     D   3.2\n1   2      0.715279     E   1.3\n2   2     -1.545400     F   0.1",
      "text/html": "<div>\n<style scoped>\n    .dataframe tbody tr th:only-of-type {\n        vertical-align: middle;\n    }\n\n    .dataframe tbody tr th {\n        vertical-align: top;\n    }\n\n    .dataframe thead th {\n        text-align: right;\n    }\n</style>\n<table border=\"1\" class=\"dataframe\">\n  <thead>\n    <tr style=\"text-align: right;\">\n      <th></th>\n      <th></th>\n      <th>value</th>\n      <th>Class</th>\n      <th>Score</th>\n    </tr>\n    <tr>\n      <th>seq</th>\n      <th>index</th>\n      <th></th>\n      <th></th>\n      <th></th>\n    </tr>\n  </thead>\n  <tbody>\n    <tr>\n      <th>0</th>\n      <th>1</th>\n      <td>1.331587</td>\n      <td>A</td>\n      <td>2.5</td>\n    </tr>\n    <tr>\n      <th>1</th>\n      <th>1</th>\n      <td>0.715279</td>\n      <td>B</td>\n      <td>1.2</td>\n    </tr>\n    <tr>\n      <th>2</th>\n      <th>1</th>\n      <td>-1.545400</td>\n      <td>C</td>\n      <td>0.7</td>\n    </tr>\n    <tr>\n      <th>0</th>\n      <th>2</th>\n      <td>1.331587</td>\n      <td>D</td>\n      <td>3.2</td>\n    </tr>\n    <tr>\n      <th>1</th>\n      <th>2</th>\n      <td>0.715279</td>\n      <td>E</td>\n      <td>1.3</td>\n    </tr>\n    <tr>\n      <th>2</th>\n      <th>2</th>\n      <td>-1.545400</td>\n      <td>F</td>\n      <td>0.1</td>\n    </tr>\n  </tbody>\n</table>\n</div>"
     },
     "execution_count": 145,
     "metadata": {},
     "output_type": "execute_result"
    },
    {
     "name": "stdout",
     "output_type": "stream",
     "text": [
      "  Class1 Class2 Score1 Score2     value  seq\n",
      "0      A      D    2.5    3.2  1.331587    0\n",
      "1      B      E    1.2    1.3  0.715279    1\n",
      "2      C      F    0.7    0.1 -1.545400    2\n"
     ]
    },
    {
     "data": {
      "text/plain": "              value Class Score\nseq index                      \n0   1      1.331587     A   2.5\n1   1      0.715279     B   1.2\n2   1     -1.545400     C   0.7\n0   2      1.331587     D   3.2\n1   2      0.715279     E   1.3\n2   2     -1.545400     F   0.1",
      "text/html": "<div>\n<style scoped>\n    .dataframe tbody tr th:only-of-type {\n        vertical-align: middle;\n    }\n\n    .dataframe tbody tr th {\n        vertical-align: top;\n    }\n\n    .dataframe thead th {\n        text-align: right;\n    }\n</style>\n<table border=\"1\" class=\"dataframe\">\n  <thead>\n    <tr style=\"text-align: right;\">\n      <th></th>\n      <th></th>\n      <th>value</th>\n      <th>Class</th>\n      <th>Score</th>\n    </tr>\n    <tr>\n      <th>seq</th>\n      <th>index</th>\n      <th></th>\n      <th></th>\n      <th></th>\n    </tr>\n  </thead>\n  <tbody>\n    <tr>\n      <th>0</th>\n      <th>1</th>\n      <td>1.331587</td>\n      <td>A</td>\n      <td>2.5</td>\n    </tr>\n    <tr>\n      <th>1</th>\n      <th>1</th>\n      <td>0.715279</td>\n      <td>B</td>\n      <td>1.2</td>\n    </tr>\n    <tr>\n      <th>2</th>\n      <th>1</th>\n      <td>-1.545400</td>\n      <td>C</td>\n      <td>0.7</td>\n    </tr>\n    <tr>\n      <th>0</th>\n      <th>2</th>\n      <td>1.331587</td>\n      <td>D</td>\n      <td>3.2</td>\n    </tr>\n    <tr>\n      <th>1</th>\n      <th>2</th>\n      <td>0.715279</td>\n      <td>E</td>\n      <td>1.3</td>\n    </tr>\n    <tr>\n      <th>2</th>\n      <th>2</th>\n      <td>-1.545400</td>\n      <td>F</td>\n      <td>0.1</td>\n    </tr>\n  </tbody>\n</table>\n</div>"
     },
     "execution_count": 146,
     "metadata": {},
     "output_type": "execute_result"
    },
    {
     "name": "stdout",
     "output_type": "stream",
     "text": [
      "  Class1 Class2 Score1 Score2     value  seq\n",
      "0      A      D    2.5    3.2  1.331587    0\n",
      "1      B      E    1.2    1.3  0.715279    1\n",
      "2      C      F    0.7    0.1 -1.545400    2\n"
     ]
    },
    {
     "data": {
      "text/plain": "              value Class Score\nseq index                      \n0   1      1.331587     A   2.5\n1   1      0.715279     B   1.2\n2   1     -1.545400     C   0.7\n0   2      1.331587     D   3.2\n1   2      0.715279     E   1.3\n2   2     -1.545400     F   0.1",
      "text/html": "<div>\n<style scoped>\n    .dataframe tbody tr th:only-of-type {\n        vertical-align: middle;\n    }\n\n    .dataframe tbody tr th {\n        vertical-align: top;\n    }\n\n    .dataframe thead th {\n        text-align: right;\n    }\n</style>\n<table border=\"1\" class=\"dataframe\">\n  <thead>\n    <tr style=\"text-align: right;\">\n      <th></th>\n      <th></th>\n      <th>value</th>\n      <th>Class</th>\n      <th>Score</th>\n    </tr>\n    <tr>\n      <th>seq</th>\n      <th>index</th>\n      <th></th>\n      <th></th>\n      <th></th>\n    </tr>\n  </thead>\n  <tbody>\n    <tr>\n      <th>0</th>\n      <th>1</th>\n      <td>1.331587</td>\n      <td>A</td>\n      <td>2.5</td>\n    </tr>\n    <tr>\n      <th>1</th>\n      <th>1</th>\n      <td>0.715279</td>\n      <td>B</td>\n      <td>1.2</td>\n    </tr>\n    <tr>\n      <th>2</th>\n      <th>1</th>\n      <td>-1.545400</td>\n      <td>C</td>\n      <td>0.7</td>\n    </tr>\n    <tr>\n      <th>0</th>\n      <th>2</th>\n      <td>1.331587</td>\n      <td>D</td>\n      <td>3.2</td>\n    </tr>\n    <tr>\n      <th>1</th>\n      <th>2</th>\n      <td>0.715279</td>\n      <td>E</td>\n      <td>1.3</td>\n    </tr>\n    <tr>\n      <th>2</th>\n      <th>2</th>\n      <td>-1.545400</td>\n      <td>F</td>\n      <td>0.1</td>\n    </tr>\n  </tbody>\n</table>\n</div>"
     },
     "execution_count": 147,
     "metadata": {},
     "output_type": "execute_result"
    },
    {
     "name": "stdout",
     "output_type": "stream",
     "text": [
      "  Class1 Class2 Score1 Score2     value  seq\n",
      "0      A      D    2.5    3.2  1.331587    0\n",
      "1      B      E    1.2    1.3  0.715279    1\n",
      "2      C      F    0.7    0.1 -1.545400    2\n"
     ]
    },
    {
     "data": {
      "text/plain": "              value Class Score\nseq index                      \n0   1      1.331587     A   2.5\n1   1      0.715279     B   1.2\n2   1     -1.545400     C   0.7\n0   2      1.331587     D   3.2\n1   2      0.715279     E   1.3\n2   2     -1.545400     F   0.1",
      "text/html": "<div>\n<style scoped>\n    .dataframe tbody tr th:only-of-type {\n        vertical-align: middle;\n    }\n\n    .dataframe tbody tr th {\n        vertical-align: top;\n    }\n\n    .dataframe thead th {\n        text-align: right;\n    }\n</style>\n<table border=\"1\" class=\"dataframe\">\n  <thead>\n    <tr style=\"text-align: right;\">\n      <th></th>\n      <th></th>\n      <th>value</th>\n      <th>Class</th>\n      <th>Score</th>\n    </tr>\n    <tr>\n      <th>seq</th>\n      <th>index</th>\n      <th></th>\n      <th></th>\n      <th></th>\n    </tr>\n  </thead>\n  <tbody>\n    <tr>\n      <th>0</th>\n      <th>1</th>\n      <td>1.331587</td>\n      <td>A</td>\n      <td>2.5</td>\n    </tr>\n    <tr>\n      <th>1</th>\n      <th>1</th>\n      <td>0.715279</td>\n      <td>B</td>\n      <td>1.2</td>\n    </tr>\n    <tr>\n      <th>2</th>\n      <th>1</th>\n      <td>-1.545400</td>\n      <td>C</td>\n      <td>0.7</td>\n    </tr>\n    <tr>\n      <th>0</th>\n      <th>2</th>\n      <td>1.331587</td>\n      <td>D</td>\n      <td>3.2</td>\n    </tr>\n    <tr>\n      <th>1</th>\n      <th>2</th>\n      <td>0.715279</td>\n      <td>E</td>\n      <td>1.3</td>\n    </tr>\n    <tr>\n      <th>2</th>\n      <th>2</th>\n      <td>-1.545400</td>\n      <td>F</td>\n      <td>0.1</td>\n    </tr>\n  </tbody>\n</table>\n</div>"
     },
     "execution_count": 148,
     "metadata": {},
     "output_type": "execute_result"
    },
    {
     "name": "stdout",
     "output_type": "stream",
     "text": [
      "  Class1 Class2 Score1 Score2     value  seq\n",
      "0      A      D    2.5    3.2  1.331587    0\n",
      "1      B      E    1.2    1.3  0.715279    1\n",
      "2      C      F    0.7    0.1 -1.545400    2\n"
     ]
    },
    {
     "data": {
      "text/plain": "              value Class Score\nseq index                      \n0   1      1.331587     A   2.5\n1   1      0.715279     B   1.2\n2   1     -1.545400     C   0.7\n0   2      1.331587     D   3.2\n1   2      0.715279     E   1.3\n2   2     -1.545400     F   0.1",
      "text/html": "<div>\n<style scoped>\n    .dataframe tbody tr th:only-of-type {\n        vertical-align: middle;\n    }\n\n    .dataframe tbody tr th {\n        vertical-align: top;\n    }\n\n    .dataframe thead th {\n        text-align: right;\n    }\n</style>\n<table border=\"1\" class=\"dataframe\">\n  <thead>\n    <tr style=\"text-align: right;\">\n      <th></th>\n      <th></th>\n      <th>value</th>\n      <th>Class</th>\n      <th>Score</th>\n    </tr>\n    <tr>\n      <th>seq</th>\n      <th>index</th>\n      <th></th>\n      <th></th>\n      <th></th>\n    </tr>\n  </thead>\n  <tbody>\n    <tr>\n      <th>0</th>\n      <th>1</th>\n      <td>1.331587</td>\n      <td>A</td>\n      <td>2.5</td>\n    </tr>\n    <tr>\n      <th>1</th>\n      <th>1</th>\n      <td>0.715279</td>\n      <td>B</td>\n      <td>1.2</td>\n    </tr>\n    <tr>\n      <th>2</th>\n      <th>1</th>\n      <td>-1.545400</td>\n      <td>C</td>\n      <td>0.7</td>\n    </tr>\n    <tr>\n      <th>0</th>\n      <th>2</th>\n      <td>1.331587</td>\n      <td>D</td>\n      <td>3.2</td>\n    </tr>\n    <tr>\n      <th>1</th>\n      <th>2</th>\n      <td>0.715279</td>\n      <td>E</td>\n      <td>1.3</td>\n    </tr>\n    <tr>\n      <th>2</th>\n      <th>2</th>\n      <td>-1.545400</td>\n      <td>F</td>\n      <td>0.1</td>\n    </tr>\n  </tbody>\n</table>\n</div>"
     },
     "execution_count": 149,
     "metadata": {},
     "output_type": "execute_result"
    },
    {
     "name": "stdout",
     "output_type": "stream",
     "text": [
      "  Class1 Class2 Score1 Score2     value  seq\n",
      "0      A      D    2.5    3.2  1.331587    0\n",
      "1      B      E    1.2    1.3  0.715279    1\n",
      "2      C      F    0.7    0.1 -1.545400    2\n"
     ]
    },
    {
     "data": {
      "text/plain": "              value Class Score\nseq index                      \n0   1      1.331587     A   2.5\n1   1      0.715279     B   1.2\n2   1     -1.545400     C   0.7\n0   2      1.331587     D   3.2\n1   2      0.715279     E   1.3\n2   2     -1.545400     F   0.1",
      "text/html": "<div>\n<style scoped>\n    .dataframe tbody tr th:only-of-type {\n        vertical-align: middle;\n    }\n\n    .dataframe tbody tr th {\n        vertical-align: top;\n    }\n\n    .dataframe thead th {\n        text-align: right;\n    }\n</style>\n<table border=\"1\" class=\"dataframe\">\n  <thead>\n    <tr style=\"text-align: right;\">\n      <th></th>\n      <th></th>\n      <th>value</th>\n      <th>Class</th>\n      <th>Score</th>\n    </tr>\n    <tr>\n      <th>seq</th>\n      <th>index</th>\n      <th></th>\n      <th></th>\n      <th></th>\n    </tr>\n  </thead>\n  <tbody>\n    <tr>\n      <th>0</th>\n      <th>1</th>\n      <td>1.331587</td>\n      <td>A</td>\n      <td>2.5</td>\n    </tr>\n    <tr>\n      <th>1</th>\n      <th>1</th>\n      <td>0.715279</td>\n      <td>B</td>\n      <td>1.2</td>\n    </tr>\n    <tr>\n      <th>2</th>\n      <th>1</th>\n      <td>-1.545400</td>\n      <td>C</td>\n      <td>0.7</td>\n    </tr>\n    <tr>\n      <th>0</th>\n      <th>2</th>\n      <td>1.331587</td>\n      <td>D</td>\n      <td>3.2</td>\n    </tr>\n    <tr>\n      <th>1</th>\n      <th>2</th>\n      <td>0.715279</td>\n      <td>E</td>\n      <td>1.3</td>\n    </tr>\n    <tr>\n      <th>2</th>\n      <th>2</th>\n      <td>-1.545400</td>\n      <td>F</td>\n      <td>0.1</td>\n    </tr>\n  </tbody>\n</table>\n</div>"
     },
     "execution_count": 150,
     "metadata": {},
     "output_type": "execute_result"
    }
   ],
   "source": [
    "np.random.seed(10)\n",
    "df = pd.DataFrame({\"Class1\":{0:\"A\",1:\"B\",2:\"C\"},\n",
    "                  \"Class2\":{0:\"D\",1:\"E\",2:\"F\"},\n",
    "                  \"Score1\":{0:\"2.5\",1:\"1.2\",2:\"0.7\"},\n",
    "                  \"Score2\":{0:\"3.2\",1:\"1.3\",2:\"0.1\"},\n",
    "                   \"value\": dict(zip(range(3),np.random.randn(3)))})\n",
    "df[\"seq\"] = df.index\n",
    "df\n",
    "print(df)\n",
    "'''\n",
    "pd.wide_to_long() 함수를 써서 데이터를 재구조화\n",
    "wide_to_long()은 pivot() 이나 stack() 과는 다르게\n",
    "\"칼럼 이름의 앞부분\"과 나머지 \"칼럼 이름의 뒷부분\"을 구분해서,\n",
    "칼럼 이름의 앞부분을 칼럼 이름으로,\n",
    "칼럼 이름의 나머지 뒷부분을 행(row)의 원소로 해서\n",
    "세로로 길게(long~) 쌓아 줍니다.\n",
    "pd.widt_to_long() 함수를 한번 사용해서\n",
    "가로로 넓은 데이터(wide~)를 세로로 길게(long~) 재구조화 하시오.\n",
    "pd.wide_to_long(data, [\"col_prefix_1\", \"col_prefix_2\"], i=\"idx_1\", j=\"idx_2\")\n",
    "'''\n",
    "df = pd.wide_to_long(df,['Class','Score'], i=\"seq\", j=\"index\")\n",
    "df\n",
    "\n",
    "\n",
    "# df = df.wide_to_long(['Class','Score'],i=\"index\", j=\"value\")\n"
   ],
   "metadata": {
    "collapsed": false,
    "pycharm": {
     "name": "#%%\n"
    }
   }
  },
  {
   "cell_type": "code",
   "execution_count": 102,
   "outputs": [
    {
     "name": "stdout",
     "output_type": "stream",
     "text": [
      "<class 'pandas.core.frame.DataFrame'>\n"
     ]
    },
    {
     "data": {
      "text/plain": "1학기 학점    A         B          \n2학기 학점    D         C         D\n학생 ID                          \nkim     0.5  0.000000  0.000000\nlee     0.0  0.333333  0.000000\npark    0.0  0.000000  0.166667",
      "text/html": "<div>\n<style scoped>\n    .dataframe tbody tr th:only-of-type {\n        vertical-align: middle;\n    }\n\n    .dataframe tbody tr th {\n        vertical-align: top;\n    }\n\n    .dataframe thead tr th {\n        text-align: left;\n    }\n\n    .dataframe thead tr:last-of-type th {\n        text-align: right;\n    }\n</style>\n<table border=\"1\" class=\"dataframe\">\n  <thead>\n    <tr>\n      <th>1학기 학점</th>\n      <th>A</th>\n      <th colspan=\"2\" halign=\"left\">B</th>\n    </tr>\n    <tr>\n      <th>2학기 학점</th>\n      <th>D</th>\n      <th>C</th>\n      <th>D</th>\n    </tr>\n    <tr>\n      <th>학생 ID</th>\n      <th></th>\n      <th></th>\n      <th></th>\n    </tr>\n  </thead>\n  <tbody>\n    <tr>\n      <th>kim</th>\n      <td>0.5</td>\n      <td>0.000000</td>\n      <td>0.000000</td>\n    </tr>\n    <tr>\n      <th>lee</th>\n      <td>0.0</td>\n      <td>0.333333</td>\n      <td>0.000000</td>\n    </tr>\n    <tr>\n      <th>park</th>\n      <td>0.0</td>\n      <td>0.000000</td>\n      <td>0.166667</td>\n    </tr>\n  </tbody>\n</table>\n</div>"
     },
     "execution_count": 102,
     "metadata": {},
     "output_type": "execute_result"
    }
   ],
   "source": [
    "'''\n",
    "pd.crosstab()\n",
    "범주형 변수로 되어있는 요인(factors)별로 교차분석(cross tabulations) 해서,\n",
    "행, 열 요인 기준 별로 빈도를 세어서 도수분포표(frequency table),\n",
    "교차표(contingency table) 를 생성한다\n",
    "\n",
    "# 범주형 변수란 고유한 값이나 범주 수가 제한된 변수(예: 성별 또는 종교)이다.\n",
    "# 교차분석(cross-tabulation analysis)은 '범주형'으로 구성된 자료들 간의 연관관계를 확인하기 위해\n",
    "   교차표를 만들어 관계를 확인하는 분석 방법이다.\n",
    "'''\n",
    "df = pd.DataFrame({\"학생 ID\" :[\"kim\",\"kim\",\"kim\",\"lee\",\"lee\",\"park\"],\n",
    "                   \"1학기 학점\":[\"A\",\"A\",\"A\",\"B\",\"B\",\"B\"],\n",
    "                   \"2학기 학점\":[\"D\",\"D\",\"D\",\"C\",\"C\",\"D\"]})\n",
    "print(type(df))\n",
    "df\n",
    "# (1) 교차표(contingency table, frequency table) 만들기 : pd.crosstab(index, columns)\n",
    "df2 = pd .crosstab(index=df['1학기 학점'], columns=df[\"2학기 학점\"])\n",
    "df2\n",
    "\n",
    "# (2) Multi-index, Multi-level로 교차표 만들기 : pd.crosstab([id1, id2], [col1, col2])\n",
    "df3 = pd.crosstab(index=df['학생 ID'], columns=[df[\"1학기 학점\"],df[\"2학기 학점\"]])\n",
    "df3\n",
    "\n",
    "# (3) 교차표의 행 이름, 열 이름 부여 : pd.crosstab(rownames=['xx'], colnames=['aa'])\n",
    "df4 = pd.crosstab(index=df['학생 ID'], columns=[df[\"1학기 학점\"],df[\"2학기 학점\"]],\n",
    "                 rownames=[\"학점\"], colnames=['ID','ID'])\n",
    "df4\n",
    "\n",
    "# (4) 교차표의 행 합, 열 합 추가하기 : pd.crosstab(margins=True)\n",
    "df5 = pd.crosstab(index=df['학생 ID'], columns=[df[\"1학기 학점\"],df[\"2학기 학점\"]],\n",
    "                  margins=True)\n",
    "df5\n",
    "\n",
    "# (5) 구성비율로 교차표 만들기 : pd.crosstab(normalize=True)\n",
    "df6 = pd.crosstab(index=df['학생 ID'], columns=[df[\"1학기 학점\"],df[\"2학기 학점\"]],\n",
    "                  normalize=True)\n",
    "df6\n"
   ],
   "metadata": {
    "collapsed": false,
    "pycharm": {
     "name": "#%%\n"
    }
   }
  }
 ],
 "metadata": {
  "kernelspec": {
   "name": "pycharm-397c6deb",
   "language": "python",
   "display_name": "PyCharm (pandas-tutorial)"
  },
  "language_info": {
   "codemirror_mode": {
    "name": "ipython",
    "version": 2
   },
   "file_extension": ".py",
   "mimetype": "text/x-python",
   "name": "python",
   "nbconvert_exporter": "python",
   "pygments_lexer": "ipython2",
   "version": "2.7.6"
  }
 },
 "nbformat": 4,
 "nbformat_minor": 0
}